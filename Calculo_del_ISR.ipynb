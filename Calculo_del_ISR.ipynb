{
  "cells": [
    {
      "cell_type": "code",
      "execution_count": null,
      "metadata": {
        "colab": {
          "base_uri": "https://localhost:8080/"
        },
        "id": "qJ-huXEmFD-Z",
        "outputId": "280a5bcc-1ef9-425f-8cf0-ed0f783de36b"
      },
      "outputs": [
        {
          "name": "stdout",
          "output_type": "stream",
          "text": [
            "--- DataFrame de Salarios Mensuales de Empleados ---\n",
            "        nombre       direccion    telefono     enero   febrero     marzo     abril      mayo     junio     julio    agosto  septiembre   octubre  noviembre  diciembre\n",
            "0   Empleado 1   Calle 1, CDMX  5555551000  27151.96  27195.28  34802.63  20798.22  38553.29  19223.52  20877.72  36849.41    36448.74  21125.19   25350.03   22273.51\n",
            "1   Empleado 2   Calle 2, CDMX  5555551001  33199.21  32499.29  38142.58  27233.42  33754.31  32372.00  27092.83  21578.35    31272.16  37768.30   29345.86   21571.59\n",
            "2   Empleado 3   Calle 3, CDMX  5555551002  18839.66  22913.75  25086.43  37935.78  24428.87  23056.82  32682.33  21614.27    33809.67  27807.73   36501.29   37431.47\n",
            "3   Empleado 4   Calle 4, CDMX  5555551003  24865.29  36345.29  32640.91  29467.63  34574.03  24131.85  27095.29  34935.15    25793.72  30369.31   25960.62   32730.54\n",
            "4   Empleado 5   Calle 5, CDMX  5555551004  21763.40  19383.43  36310.83  32632.03  20895.50  28638.37  19833.35  26766.26    24219.20  26974.81   36951.75   20153.29\n",
            "5   Empleado 6   Calle 6, CDMX  5555551005  20678.43  32205.16  36674.05  25128.13  27767.48  19901.32  29522.08  22134.21    36699.56  23563.22   31265.93   33899.80\n",
            "6   Empleado 7   Calle 7, CDMX  5555551006  22551.04  27157.60  20532.99  32524.84  36952.96  30284.14  32072.12  37330.05    27372.66  36848.96   19152.82   33868.16\n",
            "7   Empleado 8   Calle 8, CDMX  5555551007  25727.17  29976.54  19616.05  35478.15  24691.46  21762.85  29103.24  25771.14    38074.36  30275.40   37368.50   37240.64\n",
            "8   Empleado 9   Calle 9, CDMX  5555551008  26748.13  21636.41  22223.46  19202.01  24575.04  30586.95  37670.71  33807.07    32065.08  18894.61   32612.48   33023.76\n",
            "9  Empleado 10  Calle 10, CDMX  5555551009  29580.31  22787.13  36345.79  33793.76  21429.89  32789.16  30532.11  33312.33    31232.75  31142.02   38722.00   21315.09\n",
            "\n",
            "\n",
            "\n",
            "--- DataFrame de Retención de ISR Mensual ---\n",
            "        nombre  isr_enero  isr_febrero  isr_marzo  isr_abril  isr_mayo  isr_junio  isr_julio  isr_agosto  isr_septiembre  isr_octubre  isr_noviembre  isr_diciembre\n",
            "0   Empleado 1    1955.59      1965.78    3755.03     461.19   4637.18      90.82     479.89     4236.43         4142.19       538.09        1531.78         808.18\n",
            "1   Empleado 2    3377.90      3213.28    4540.58    1974.75   3508.46    3183.34    1941.68      644.68         2924.66      4452.55        2471.59         643.09\n",
            "2   Empleado 3       0.54       958.76    1469.78    4491.94   1315.12     992.41    3256.33      653.12         3521.48      2109.83        4154.55        4373.33\n",
            "3   Empleado 4    1417.76      4117.86    3246.59    2500.23   3701.26    1245.26    1942.26     3786.20         1636.13      2712.31        1675.39        3267.67\n",
            "4   Empleado 5     688.20       128.43    4109.76    3244.50    484.07    2305.19     234.25     1864.87         1265.80      1913.92        4260.50         309.50\n",
            "5   Empleado 6     433.01      3144.10    4195.18    1479.58   2100.36     250.24    2513.04      775.41         4201.18      1111.52        2923.19        3542.68\n",
            "6   Empleado 7     873.45      1956.92     398.81    3219.29   4260.78    2692.28    3112.81     4349.48         2007.50      4236.32          74.19        3535.24\n",
            "7   Empleado 8    1620.48      2619.93     183.14    3913.91   1376.88     688.07    2414.53     1630.82         4524.54      2690.22        4358.52        4328.45\n",
            "8   Empleado 9    1860.61       658.33     796.41      85.76   1349.50    2763.50    4429.60     3520.87         3111.16        13.46        3239.90        3336.64\n",
            "9  Empleado 10    2526.74       928.98    4117.98    3517.74    609.76    3281.46    2750.60     3404.51         2915.39      2894.05        4676.86         582.76\n",
            "\n",
            "\n",
            "\n",
            "--- Resumen Anual por Empleado ---\n",
            "        nombre  salario_anual  retencion_isr_anual\n",
            "0   Empleado 1      330649.50             24602.15\n",
            "1   Empleado 2      365829.90             32876.56\n",
            "2   Empleado 3      342108.07             27297.19\n",
            "3   Empleado 4      358909.63             31248.92\n",
            "4   Empleado 5      314522.22             20808.99\n",
            "5   Empleado 6      339439.37             26669.49\n",
            "6   Empleado 7      356648.34             30717.07\n",
            "7   Empleado 8      355085.50             30349.49\n",
            "8   Empleado 9      333045.71             25165.74\n",
            "9  Empleado 10      362982.34             32206.83\n"
          ]
        }
      ],
      "source": [
        "# Alumno: Gómez Meza Jorge Ángel\n",
        "# Grupo 1 - Módulo 1: Inducción\n",
        "\n",
        "import pandas as pd\n",
        "import numpy as np\n",
        "\n",
        "# 1. Definimos los parámetros de la tabla ISR\n",
        "limite_inferior = 18837.38\n",
        "porcentaje_excedente = 0.2352\n",
        "\n",
        "# 2. Generamos datos ficticios (aleatorios) para 10 empleados\n",
        "np.random.seed(1) # Semilla para reproducibilidad (Nos ayudará a que la secuencia de números \"aleatorios\" que genere NumPy sea exactamente la misma)\n",
        "n_empleados = 10\n",
        "meses = ['enero', 'febrero', 'marzo', 'abril', 'mayo', 'junio', 'julio', 'agosto', 'septiembre', 'octubre', 'noviembre', 'diciembre']\n",
        "\n",
        "datos_empleados = {\n",
        "    'nombre': [f'Empleado {i+1}' for i in range(n_empleados)],\n",
        "    'direccion': [f'Calle {i+1}, CDMX' for i in range(n_empleados)],\n",
        "    'telefono': [f'555555{1000+i}' for i in range(n_empleados)]\n",
        "}\n",
        "\n",
        "# Generamos salarios mensuales aleatorios dentro del rango\n",
        "for mes in meses:\n",
        "    datos_empleados[mes] = np.random.uniform(18837.38, 38775.38, n_empleados).round(2) #Redondea a dos cifras decimales.\n",
        "\n",
        "# 3. Creamos el DataFrame principal\n",
        "df_salarios = pd.DataFrame(datos_empleados)\n",
        "\n",
        "\n",
        "# 4. Calculamos el ISR mensual con la fórmula\n",
        "df_isr = df_salarios[['nombre']].copy() # Usamos .copy() para asegurar que creamos una tabla nueva e independiente y evitar problemas en el DataFrame original.\n",
        "\n",
        "for mes in meses:\n",
        "    excedente = df_salarios[mes] - limite_inferior\n",
        "    isr_mensual = excedente * porcentaje_excedente\n",
        "    df_isr[f'isr_{mes}'] = isr_mensual.round(2)\n",
        "\n",
        "\n",
        "# 5. Calculamos los totales anuales\n",
        "df_anual = df_salarios[['nombre']].copy()\n",
        "\n",
        "# Sumamos todos los salarios mensuales para obtener el total anual\n",
        "df_anual['salario_anual'] = df_salarios[meses].sum(axis=1).round(2) # Suma los valores, pero gracias a axis=1, lo hace de forma horizontal (a lo largo de las filas).\n",
        "\n",
        "# Sumamos todas las retenciones de ISR mensuales para el total anual\n",
        "df_anual['retencion_isr_anual'] = df_isr[[f'isr_{mes}' for mes in meses]].sum(axis=1).round(2)\n",
        "\n",
        "\n",
        "# Impresión de los Resultados\n",
        "print(\"--- DataFrame de Salarios Mensuales de Empleados ---\")\n",
        "print(df_salarios.to_string()) # Lo que hace df_salarios.to_string() es que convierte el DataFrame completo a texto (string).\n",
        "print(\"\\n\" + \"\\n\")\n",
        "\n",
        "print(\"--- DataFrame de Retención de ISR Mensual ---\")\n",
        "print(df_isr.to_string())\n",
        "print(\"\\n\" + \"\\n\")\n",
        "\n",
        "print(\"--- Resumen Anual por Empleado ---\")\n",
        "print(df_anual.to_string())\n"
      ]
    },
    {
      "cell_type": "code",
      "execution_count": null,
      "metadata": {
        "id": "xDfHW4uWHnM8"
      },
      "outputs": [],
      "source": []
    }
  ],
  "metadata": {
    "colab": {
      "provenance": []
    },
    "kernelspec": {
      "display_name": "Python 3",
      "name": "python3"
    },
    "language_info": {
      "name": "python"
    }
  },
  "nbformat": 4,
  "nbformat_minor": 0
}
